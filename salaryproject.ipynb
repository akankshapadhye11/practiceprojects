{
 "cells": [
  {
   "cell_type": "markdown",
   "metadata": {},
   "source": [
    "# Importing dataset:"
   ]
  },
  {
   "cell_type": "code",
   "execution_count": 1,
   "metadata": {},
   "outputs": [],
   "source": [
    "import pandas as pd\n",
    "import numpy as np"
   ]
  },
  {
   "cell_type": "code",
   "execution_count": 2,
   "metadata": {},
   "outputs": [
    {
     "data": {
      "text/html": [
       "<div>\n",
       "<style scoped>\n",
       "    .dataframe tbody tr th:only-of-type {\n",
       "        vertical-align: middle;\n",
       "    }\n",
       "\n",
       "    .dataframe tbody tr th {\n",
       "        vertical-align: top;\n",
       "    }\n",
       "\n",
       "    .dataframe thead th {\n",
       "        text-align: right;\n",
       "    }\n",
       "</style>\n",
       "<table border=\"1\" class=\"dataframe\">\n",
       "  <thead>\n",
       "    <tr style=\"text-align: right;\">\n",
       "      <th></th>\n",
       "      <th>rank</th>\n",
       "      <th>discipline</th>\n",
       "      <th>yrs.since.phd</th>\n",
       "      <th>yrs.service</th>\n",
       "      <th>sex</th>\n",
       "      <th>salary</th>\n",
       "    </tr>\n",
       "  </thead>\n",
       "  <tbody>\n",
       "    <tr>\n",
       "      <th>0</th>\n",
       "      <td>Prof</td>\n",
       "      <td>B</td>\n",
       "      <td>19</td>\n",
       "      <td>18</td>\n",
       "      <td>Male</td>\n",
       "      <td>139750</td>\n",
       "    </tr>\n",
       "    <tr>\n",
       "      <th>1</th>\n",
       "      <td>Prof</td>\n",
       "      <td>B</td>\n",
       "      <td>20</td>\n",
       "      <td>16</td>\n",
       "      <td>Male</td>\n",
       "      <td>173200</td>\n",
       "    </tr>\n",
       "    <tr>\n",
       "      <th>2</th>\n",
       "      <td>AsstProf</td>\n",
       "      <td>B</td>\n",
       "      <td>4</td>\n",
       "      <td>3</td>\n",
       "      <td>Male</td>\n",
       "      <td>79750</td>\n",
       "    </tr>\n",
       "    <tr>\n",
       "      <th>3</th>\n",
       "      <td>Prof</td>\n",
       "      <td>B</td>\n",
       "      <td>45</td>\n",
       "      <td>39</td>\n",
       "      <td>Male</td>\n",
       "      <td>115000</td>\n",
       "    </tr>\n",
       "    <tr>\n",
       "      <th>4</th>\n",
       "      <td>Prof</td>\n",
       "      <td>B</td>\n",
       "      <td>40</td>\n",
       "      <td>41</td>\n",
       "      <td>Male</td>\n",
       "      <td>141500</td>\n",
       "    </tr>\n",
       "    <tr>\n",
       "      <th>...</th>\n",
       "      <td>...</td>\n",
       "      <td>...</td>\n",
       "      <td>...</td>\n",
       "      <td>...</td>\n",
       "      <td>...</td>\n",
       "      <td>...</td>\n",
       "    </tr>\n",
       "    <tr>\n",
       "      <th>392</th>\n",
       "      <td>Prof</td>\n",
       "      <td>A</td>\n",
       "      <td>33</td>\n",
       "      <td>30</td>\n",
       "      <td>Male</td>\n",
       "      <td>103106</td>\n",
       "    </tr>\n",
       "    <tr>\n",
       "      <th>393</th>\n",
       "      <td>Prof</td>\n",
       "      <td>A</td>\n",
       "      <td>31</td>\n",
       "      <td>19</td>\n",
       "      <td>Male</td>\n",
       "      <td>150564</td>\n",
       "    </tr>\n",
       "    <tr>\n",
       "      <th>394</th>\n",
       "      <td>Prof</td>\n",
       "      <td>A</td>\n",
       "      <td>42</td>\n",
       "      <td>25</td>\n",
       "      <td>Male</td>\n",
       "      <td>101738</td>\n",
       "    </tr>\n",
       "    <tr>\n",
       "      <th>395</th>\n",
       "      <td>Prof</td>\n",
       "      <td>A</td>\n",
       "      <td>25</td>\n",
       "      <td>15</td>\n",
       "      <td>Male</td>\n",
       "      <td>95329</td>\n",
       "    </tr>\n",
       "    <tr>\n",
       "      <th>396</th>\n",
       "      <td>AsstProf</td>\n",
       "      <td>A</td>\n",
       "      <td>8</td>\n",
       "      <td>4</td>\n",
       "      <td>Male</td>\n",
       "      <td>81035</td>\n",
       "    </tr>\n",
       "  </tbody>\n",
       "</table>\n",
       "<p>397 rows × 6 columns</p>\n",
       "</div>"
      ],
      "text/plain": [
       "         rank discipline  yrs.since.phd  yrs.service   sex  salary\n",
       "0        Prof          B             19           18  Male  139750\n",
       "1        Prof          B             20           16  Male  173200\n",
       "2    AsstProf          B              4            3  Male   79750\n",
       "3        Prof          B             45           39  Male  115000\n",
       "4        Prof          B             40           41  Male  141500\n",
       "..        ...        ...            ...          ...   ...     ...\n",
       "392      Prof          A             33           30  Male  103106\n",
       "393      Prof          A             31           19  Male  150564\n",
       "394      Prof          A             42           25  Male  101738\n",
       "395      Prof          A             25           15  Male   95329\n",
       "396  AsstProf          A              8            4  Male   81035\n",
       "\n",
       "[397 rows x 6 columns]"
      ]
     },
     "execution_count": 2,
     "metadata": {},
     "output_type": "execute_result"
    }
   ],
   "source": [
    "df=pd.read_csv('salaries.csv')\n",
    "df"
   ]
  },
  {
   "cell_type": "code",
   "execution_count": 3,
   "metadata": {},
   "outputs": [
    {
     "data": {
      "text/plain": [
       "Index(['rank', 'discipline', 'yrs.since.phd', 'yrs.service', 'sex', 'salary'], dtype='object')"
      ]
     },
     "execution_count": 3,
     "metadata": {},
     "output_type": "execute_result"
    }
   ],
   "source": [
    "df.columns"
   ]
  },
  {
   "cell_type": "code",
   "execution_count": 5,
   "metadata": {},
   "outputs": [
    {
     "data": {
      "text/html": [
       "<div>\n",
       "<style scoped>\n",
       "    .dataframe tbody tr th:only-of-type {\n",
       "        vertical-align: middle;\n",
       "    }\n",
       "\n",
       "    .dataframe tbody tr th {\n",
       "        vertical-align: top;\n",
       "    }\n",
       "\n",
       "    .dataframe thead th {\n",
       "        text-align: right;\n",
       "    }\n",
       "</style>\n",
       "<table border=\"1\" class=\"dataframe\">\n",
       "  <thead>\n",
       "    <tr style=\"text-align: right;\">\n",
       "      <th></th>\n",
       "      <th>rank</th>\n",
       "      <th>discipline</th>\n",
       "      <th>yrs.since.phd</th>\n",
       "      <th>yrs.service</th>\n",
       "      <th>sex</th>\n",
       "      <th>salary</th>\n",
       "    </tr>\n",
       "  </thead>\n",
       "  <tbody>\n",
       "    <tr>\n",
       "      <th>0</th>\n",
       "      <td>Prof</td>\n",
       "      <td>B</td>\n",
       "      <td>19</td>\n",
       "      <td>18</td>\n",
       "      <td>Male</td>\n",
       "      <td>139750</td>\n",
       "    </tr>\n",
       "    <tr>\n",
       "      <th>1</th>\n",
       "      <td>Prof</td>\n",
       "      <td>B</td>\n",
       "      <td>20</td>\n",
       "      <td>16</td>\n",
       "      <td>Male</td>\n",
       "      <td>173200</td>\n",
       "    </tr>\n",
       "    <tr>\n",
       "      <th>2</th>\n",
       "      <td>AsstProf</td>\n",
       "      <td>B</td>\n",
       "      <td>4</td>\n",
       "      <td>3</td>\n",
       "      <td>Male</td>\n",
       "      <td>79750</td>\n",
       "    </tr>\n",
       "    <tr>\n",
       "      <th>3</th>\n",
       "      <td>Prof</td>\n",
       "      <td>B</td>\n",
       "      <td>45</td>\n",
       "      <td>39</td>\n",
       "      <td>Male</td>\n",
       "      <td>115000</td>\n",
       "    </tr>\n",
       "    <tr>\n",
       "      <th>4</th>\n",
       "      <td>Prof</td>\n",
       "      <td>B</td>\n",
       "      <td>40</td>\n",
       "      <td>41</td>\n",
       "      <td>Male</td>\n",
       "      <td>141500</td>\n",
       "    </tr>\n",
       "  </tbody>\n",
       "</table>\n",
       "</div>"
      ],
      "text/plain": [
       "       rank discipline  yrs.since.phd  yrs.service   sex  salary\n",
       "0      Prof          B             19           18  Male  139750\n",
       "1      Prof          B             20           16  Male  173200\n",
       "2  AsstProf          B              4            3  Male   79750\n",
       "3      Prof          B             45           39  Male  115000\n",
       "4      Prof          B             40           41  Male  141500"
      ]
     },
     "execution_count": 5,
     "metadata": {},
     "output_type": "execute_result"
    }
   ],
   "source": [
    "df.head()"
   ]
  },
  {
   "cell_type": "code",
   "execution_count": 6,
   "metadata": {},
   "outputs": [
    {
     "data": {
      "text/plain": [
       "rank             0\n",
       "discipline       0\n",
       "yrs.since.phd    0\n",
       "yrs.service      0\n",
       "sex              0\n",
       "salary           0\n",
       "dtype: int64"
      ]
     },
     "execution_count": 6,
     "metadata": {},
     "output_type": "execute_result"
    }
   ],
   "source": [
    "#checking null values in dataframe:\n",
    "df.isnull().sum()"
   ]
  },
  {
   "cell_type": "markdown",
   "metadata": {},
   "source": [
    "There are no null values"
   ]
  },
  {
   "cell_type": "code",
   "execution_count": 7,
   "metadata": {},
   "outputs": [
    {
     "data": {
      "text/plain": [
       "rank             object\n",
       "discipline       object\n",
       "yrs.since.phd     int64\n",
       "yrs.service       int64\n",
       "sex              object\n",
       "salary            int64\n",
       "dtype: object"
      ]
     },
     "execution_count": 7,
     "metadata": {},
     "output_type": "execute_result"
    }
   ],
   "source": [
    "#checking datatypes of columns\n",
    "df.dtypes"
   ]
  },
  {
   "cell_type": "markdown",
   "metadata": {},
   "source": [
    "'salary' has continuous data and its in int64 type"
   ]
  },
  {
   "cell_type": "markdown",
   "metadata": {},
   "source": [
    "# making dataframe for the nominal data:"
   ]
  },
  {
   "cell_type": "code",
   "execution_count": 35,
   "metadata": {},
   "outputs": [],
   "source": [
    "df_visual_nominal=df[['rank', 'discipline', 'sex']].copy()"
   ]
  },
  {
   "cell_type": "code",
   "execution_count": 36,
   "metadata": {},
   "outputs": [
    {
     "data": {
      "text/plain": [
       "Index(['rank', 'discipline', 'sex'], dtype='object')"
      ]
     },
     "execution_count": 36,
     "metadata": {},
     "output_type": "execute_result"
    }
   ],
   "source": [
    "df_visual_nominal.columns"
   ]
  },
  {
   "cell_type": "markdown",
   "metadata": {},
   "source": [
    "# Visualization of data:"
   ]
  },
  {
   "cell_type": "code",
   "execution_count": 38,
   "metadata": {},
   "outputs": [],
   "source": [
    "import seaborn as sns"
   ]
  },
  {
   "cell_type": "code",
   "execution_count": 39,
   "metadata": {},
   "outputs": [
    {
     "name": "stdout",
     "output_type": "stream",
     "text": [
      "Male      358\n",
      "Female     39\n",
      "Name: sex, dtype: int64\n"
     ]
    },
    {
     "data": {
      "image/png": "[encoded data removed]",
      "text/plain": [
       "<Figure size 432x288 with 1 Axes>"
      ]
     },
     "metadata": {
      "needs_background": "light"
     },
     "output_type": "display_data"
    }
   ],
   "source": [
    "a=sns.countplot(x='sex',data=df_visual_nominal)\n",
    "print(df_visual_nominal['sex'].value_counts())"
   ]
  },
  {
   "cell_type": "markdown",
   "metadata": {},
   "source": [
    "total number of males are 358 and females are 39"
   ]
  },
  {
   "cell_type": "code",
   "execution_count": 40,
   "metadata": {},
   "outputs": [
    {
     "name": "stdout",
     "output_type": "stream",
     "text": [
      "B    216\n",
      "A    181\n",
      "Name: discipline, dtype: int64\n"
     ]
    },
    {
     "data": {
      "image/png": "[encoded data removed]",
      "text/plain": [
       "<Figure size 432x288 with 1 Axes>"
      ]
     },
     "metadata": {
      "needs_background": "light"
     },
     "output_type": "display_data"
    }
   ],
   "source": [
    "b=sns.countplot(x='discipline',data=df_visual_nominal)\n",
    "print(df_visual_nominal['discipline'].value_counts())"
   ]
  },
  {
   "cell_type": "markdown",
   "metadata": {},
   "source": [
    "in discipline column rank B is for 216 employees and rank A is for 181 employees"
   ]
  },
  {
   "cell_type": "code",
   "execution_count": 41,
   "metadata": {},
   "outputs": [
    {
     "name": "stdout",
     "output_type": "stream",
     "text": [
      "Prof         266\n",
      "AsstProf      67\n",
      "AssocProf     64\n",
      "Name: rank, dtype: int64\n"
     ]
    },
    {
     "data": {
      "image/png": "[encoded data removed]",
      "text/plain": [
       "<Figure size 432x288 with 1 Axes>"
      ]
     },
     "metadata": {
      "needs_background": "light"
     },
     "output_type": "display_data"
    }
   ],
   "source": [
    "c=sns.countplot(x='rank',data=df_visual_nominal)\n",
    "print(df_visual_nominal['rank'].value_counts())"
   ]
  },
  {
   "cell_type": "markdown",
   "metadata": {},
   "source": [
    "there are 266 prof, 67 AsstProf and 64 AssocProf"
   ]
  },
  {
   "cell_type": "markdown",
   "metadata": {},
   "source": [
    "# checking the distribution of continuous value"
   ]
  },
  {
   "cell_type": "code",
   "execution_count": 46,
   "metadata": {},
   "outputs": [
    {
     "data": {
      "image/png": "[encoded data removed]",
      "text/plain": [
       "<Figure size 360x360 with 1 Axes>"
      ]
     },
     "metadata": {
      "needs_background": "light"
     },
     "output_type": "display_data"
    }
   ],
   "source": [
    "d=sns.displot(x='yrs.since.phd',data=df,kde=True)"
   ]
  },
  {
   "cell_type": "code",
   "execution_count": 47,
   "metadata": {},
   "outputs": [
    {
     "data": {
      "image/png": "[encoded data removed]",
      "text/plain": [
       "<Figure size 360x360 with 1 Axes>"
      ]
     },
     "metadata": {
      "needs_background": "light"
     },
     "output_type": "display_data"
    }
   ],
   "source": [
    "e=sns.displot(x='yrs.service',data=df,kde=True)"
   ]
  },
  {
   "cell_type": "code",
   "execution_count": 48,
   "metadata": {},
   "outputs": [
    {
     "data": {
      "image/png": "[encoded data removed]",
      "text/plain": [
       "<Figure size 360x360 with 1 Axes>"
      ]
     },
     "metadata": {
      "needs_background": "light"
     },
     "output_type": "display_data"
    }
   ],
   "source": [
    "f=sns.displot(x='salary',data=df,kde=True)"
   ]
  },
  {
   "cell_type": "markdown",
   "metadata": {},
   "source": [
    "# Encoding of dataframe:"
   ]
  },
  {
   "cell_type": "code",
   "execution_count": 49,
   "metadata": {},
   "outputs": [],
   "source": [
    "from sklearn.preprocessing import OrdinalEncoder\n",
    "enc=OrdinalEncoder()"
   ]
  },
  {
   "cell_type": "code",
   "execution_count": 50,
   "metadata": {},
   "outputs": [],
   "source": [
    "for i in df.columns:\n",
    "    if df[i].dtypes=='object':\n",
    "        df[i]=enc.fit_transform(df[i].values.reshape(-1,1))"
   ]
  },
  {
   "cell_type": "code",
   "execution_count": 51,
   "metadata": {},
   "outputs": [
    {
     "data": {
      "text/html": [
       "<div>\n",
       "<style scoped>\n",
       "    .dataframe tbody tr th:only-of-type {\n",
       "        vertical-align: middle;\n",
       "    }\n",
       "\n",
       "    .dataframe tbody tr th {\n",
       "        vertical-align: top;\n",
       "    }\n",
       "\n",
       "    .dataframe thead th {\n",
       "        text-align: right;\n",
       "    }\n",
       "</style>\n",
       "<table border=\"1\" class=\"dataframe\">\n",
       "  <thead>\n",
       "    <tr style=\"text-align: right;\">\n",
       "      <th></th>\n",
       "      <th>rank</th>\n",
       "      <th>discipline</th>\n",
       "      <th>yrs.since.phd</th>\n",
       "      <th>yrs.service</th>\n",
       "      <th>sex</th>\n",
       "      <th>salary</th>\n",
       "    </tr>\n",
       "  </thead>\n",
       "  <tbody>\n",
       "    <tr>\n",
       "      <th>0</th>\n",
       "      <td>2.0</td>\n",
       "      <td>1.0</td>\n",
       "      <td>19</td>\n",
       "      <td>18</td>\n",
       "      <td>1.0</td>\n",
       "      <td>139750</td>\n",
       "    </tr>\n",
       "    <tr>\n",
       "      <th>1</th>\n",
       "      <td>2.0</td>\n",
       "      <td>1.0</td>\n",
       "      <td>20</td>\n",
       "      <td>16</td>\n",
       "      <td>1.0</td>\n",
       "      <td>173200</td>\n",
       "    </tr>\n",
       "    <tr>\n",
       "      <th>2</th>\n",
       "      <td>1.0</td>\n",
       "      <td>1.0</td>\n",
       "      <td>4</td>\n",
       "      <td>3</td>\n",
       "      <td>1.0</td>\n",
       "      <td>79750</td>\n",
       "    </tr>\n",
       "    <tr>\n",
       "      <th>3</th>\n",
       "      <td>2.0</td>\n",
       "      <td>1.0</td>\n",
       "      <td>45</td>\n",
       "      <td>39</td>\n",
       "      <td>1.0</td>\n",
       "      <td>115000</td>\n",
       "    </tr>\n",
       "    <tr>\n",
       "      <th>4</th>\n",
       "      <td>2.0</td>\n",
       "      <td>1.0</td>\n",
       "      <td>40</td>\n",
       "      <td>41</td>\n",
       "      <td>1.0</td>\n",
       "      <td>141500</td>\n",
       "    </tr>\n",
       "    <tr>\n",
       "      <th>...</th>\n",
       "      <td>...</td>\n",
       "      <td>...</td>\n",
       "      <td>...</td>\n",
       "      <td>...</td>\n",
       "      <td>...</td>\n",
       "      <td>...</td>\n",
       "    </tr>\n",
       "    <tr>\n",
       "      <th>392</th>\n",
       "      <td>2.0</td>\n",
       "      <td>0.0</td>\n",
       "      <td>33</td>\n",
       "      <td>30</td>\n",
       "      <td>1.0</td>\n",
       "      <td>103106</td>\n",
       "    </tr>\n",
       "    <tr>\n",
       "      <th>393</th>\n",
       "      <td>2.0</td>\n",
       "      <td>0.0</td>\n",
       "      <td>31</td>\n",
       "      <td>19</td>\n",
       "      <td>1.0</td>\n",
       "      <td>150564</td>\n",
       "    </tr>\n",
       "    <tr>\n",
       "      <th>394</th>\n",
       "      <td>2.0</td>\n",
       "      <td>0.0</td>\n",
       "      <td>42</td>\n",
       "      <td>25</td>\n",
       "      <td>1.0</td>\n",
       "      <td>101738</td>\n",
       "    </tr>\n",
       "    <tr>\n",
       "      <th>395</th>\n",
       "      <td>2.0</td>\n",
       "      <td>0.0</td>\n",
       "      <td>25</td>\n",
       "      <td>15</td>\n",
       "      <td>1.0</td>\n",
       "      <td>95329</td>\n",
       "    </tr>\n",
       "    <tr>\n",
       "      <th>396</th>\n",
       "      <td>1.0</td>\n",
       "      <td>0.0</td>\n",
       "      <td>8</td>\n",
       "      <td>4</td>\n",
       "      <td>1.0</td>\n",
       "      <td>81035</td>\n",
       "    </tr>\n",
       "  </tbody>\n",
       "</table>\n",
       "<p>397 rows × 6 columns</p>\n",
       "</div>"
      ],
      "text/plain": [
       "     rank  discipline  yrs.since.phd  yrs.service  sex  salary\n",
       "0     2.0         1.0             19           18  1.0  139750\n",
       "1     2.0         1.0             20           16  1.0  173200\n",
       "2     1.0         1.0              4            3  1.0   79750\n",
       "3     2.0         1.0             45           39  1.0  115000\n",
       "4     2.0         1.0             40           41  1.0  141500\n",
       "..    ...         ...            ...          ...  ...     ...\n",
       "392   2.0         0.0             33           30  1.0  103106\n",
       "393   2.0         0.0             31           19  1.0  150564\n",
       "394   2.0         0.0             42           25  1.0  101738\n",
       "395   2.0         0.0             25           15  1.0   95329\n",
       "396   1.0         0.0              8            4  1.0   81035\n",
       "\n",
       "[397 rows x 6 columns]"
      ]
     },
     "execution_count": 51,
     "metadata": {},
     "output_type": "execute_result"
    }
   ],
   "source": [
    "df"
   ]
  },
  {
   "cell_type": "code",
   "execution_count": 52,
   "metadata": {},
   "outputs": [
    {
     "data": {
      "text/html": [
       "<div>\n",
       "<style scoped>\n",
       "    .dataframe tbody tr th:only-of-type {\n",
       "        vertical-align: middle;\n",
       "    }\n",
       "\n",
       "    .dataframe tbody tr th {\n",
       "        vertical-align: top;\n",
       "    }\n",
       "\n",
       "    .dataframe thead th {\n",
       "        text-align: right;\n",
       "    }\n",
       "</style>\n",
       "<table border=\"1\" class=\"dataframe\">\n",
       "  <thead>\n",
       "    <tr style=\"text-align: right;\">\n",
       "      <th></th>\n",
       "      <th>rank</th>\n",
       "      <th>discipline</th>\n",
       "      <th>yrs.since.phd</th>\n",
       "      <th>yrs.service</th>\n",
       "      <th>sex</th>\n",
       "      <th>salary</th>\n",
       "    </tr>\n",
       "  </thead>\n",
       "  <tbody>\n",
       "    <tr>\n",
       "      <th>count</th>\n",
       "      <td>397.000000</td>\n",
       "      <td>397.000000</td>\n",
       "      <td>397.000000</td>\n",
       "      <td>397.000000</td>\n",
       "      <td>397.000000</td>\n",
       "      <td>397.000000</td>\n",
       "    </tr>\n",
       "    <tr>\n",
       "      <th>mean</th>\n",
       "      <td>1.508816</td>\n",
       "      <td>0.544081</td>\n",
       "      <td>22.314861</td>\n",
       "      <td>17.614610</td>\n",
       "      <td>0.901763</td>\n",
       "      <td>113706.458438</td>\n",
       "    </tr>\n",
       "    <tr>\n",
       "      <th>std</th>\n",
       "      <td>0.757486</td>\n",
       "      <td>0.498682</td>\n",
       "      <td>12.887003</td>\n",
       "      <td>13.006024</td>\n",
       "      <td>0.298010</td>\n",
       "      <td>30289.038695</td>\n",
       "    </tr>\n",
       "    <tr>\n",
       "      <th>min</th>\n",
       "      <td>0.000000</td>\n",
       "      <td>0.000000</td>\n",
       "      <td>1.000000</td>\n",
       "      <td>0.000000</td>\n",
       "      <td>0.000000</td>\n",
       "      <td>57800.000000</td>\n",
       "    </tr>\n",
       "    <tr>\n",
       "      <th>25%</th>\n",
       "      <td>1.000000</td>\n",
       "      <td>0.000000</td>\n",
       "      <td>12.000000</td>\n",
       "      <td>7.000000</td>\n",
       "      <td>1.000000</td>\n",
       "      <td>91000.000000</td>\n",
       "    </tr>\n",
       "    <tr>\n",
       "      <th>50%</th>\n",
       "      <td>2.000000</td>\n",
       "      <td>1.000000</td>\n",
       "      <td>21.000000</td>\n",
       "      <td>16.000000</td>\n",
       "      <td>1.000000</td>\n",
       "      <td>107300.000000</td>\n",
       "    </tr>\n",
       "    <tr>\n",
       "      <th>75%</th>\n",
       "      <td>2.000000</td>\n",
       "      <td>1.000000</td>\n",
       "      <td>32.000000</td>\n",
       "      <td>27.000000</td>\n",
       "      <td>1.000000</td>\n",
       "      <td>134185.000000</td>\n",
       "    </tr>\n",
       "    <tr>\n",
       "      <th>max</th>\n",
       "      <td>2.000000</td>\n",
       "      <td>1.000000</td>\n",
       "      <td>56.000000</td>\n",
       "      <td>60.000000</td>\n",
       "      <td>1.000000</td>\n",
       "      <td>231545.000000</td>\n",
       "    </tr>\n",
       "  </tbody>\n",
       "</table>\n",
       "</div>"
      ],
      "text/plain": [
       "             rank  discipline  yrs.since.phd  yrs.service         sex  \\\n",
       "count  397.000000  397.000000     397.000000   397.000000  397.000000   \n",
       "mean     1.508816    0.544081      22.314861    17.614610    0.901763   \n",
       "std      0.757486    0.498682      12.887003    13.006024    0.298010   \n",
       "min      0.000000    0.000000       1.000000     0.000000    0.000000   \n",
       "25%      1.000000    0.000000      12.000000     7.000000    1.000000   \n",
       "50%      2.000000    1.000000      21.000000    16.000000    1.000000   \n",
       "75%      2.000000    1.000000      32.000000    27.000000    1.000000   \n",
       "max      2.000000    1.000000      56.000000    60.000000    1.000000   \n",
       "\n",
       "              salary  \n",
       "count     397.000000  \n",
       "mean   113706.458438  \n",
       "std     30289.038695  \n",
       "min     57800.000000  \n",
       "25%     91000.000000  \n",
       "50%    107300.000000  \n",
       "75%    134185.000000  \n",
       "max    231545.000000  "
      ]
     },
     "execution_count": 52,
     "metadata": {},
     "output_type": "execute_result"
    }
   ],
   "source": [
    "df.describe()"
   ]
  },
  {
   "cell_type": "code",
   "execution_count": 57,
   "metadata": {},
   "outputs": [
    {
     "data": {
      "text/plain": [
       "<matplotlib.axes._subplots.AxesSubplot at 0xbabd3c8>"
      ]
     },
     "execution_count": 57,
     "metadata": {},
     "output_type": "execute_result"
    },
    {
     "data": {
      "image/png": "[encoded data removed]",
      "text/plain": [
       "<Figure size 1080x432 with 2 Axes>"
      ]
     },
     "metadata": {
      "needs_background": "light"
     },
     "output_type": "display_data"
    }
   ],
   "source": [
    "import matplotlib.pyplot as plt\n",
    "plt.figure(figsize=(15,6))\n",
    "sns.heatmap(df.describe(), annot=True,cmap='Blues')"
   ]
  },
  {
   "cell_type": "markdown",
   "metadata": {},
   "source": [
    "# correlation of columns with target columns:"
   ]
  },
  {
   "cell_type": "code",
   "execution_count": 58,
   "metadata": {},
   "outputs": [
    {
     "data": {
      "text/plain": [
       "sex              0.138610\n",
       "discipline       0.156084\n",
       "yrs.service      0.334745\n",
       "yrs.since.phd    0.419231\n",
       "rank             0.522207\n",
       "salary           1.000000\n",
       "Name: salary, dtype: float64"
      ]
     },
     "execution_count": 58,
     "metadata": {},
     "output_type": "execute_result"
    }
   ],
   "source": [
    "df.corr()['salary'].sort_values()"
   ]
  },
  {
   "cell_type": "code",
   "execution_count": 59,
   "metadata": {},
   "outputs": [
    {
     "data": {
      "text/plain": [
       "<matplotlib.axes._subplots.AxesSubplot at 0xdb410c8>"
      ]
     },
     "execution_count": 59,
     "metadata": {},
     "output_type": "execute_result"
    },
    {
     "data": {
      "image/png": "[encoded data removed]",
      "text/plain": [
       "<Figure size 432x288 with 2 Axes>"
      ]
     },
     "metadata": {
      "needs_background": "light"
     },
     "output_type": "display_data"
    }
   ],
   "source": [
    "sns.heatmap(df.corr(),annot=True)"
   ]
  },
  {
   "cell_type": "markdown",
   "metadata": {},
   "source": [
    "salary has maximum correlated with rank then with yrs.since.phd and then with yrs.services"
   ]
  },
  {
   "cell_type": "code",
   "execution_count": 60,
   "metadata": {},
   "outputs": [
    {
     "data": {
      "image/png": "[encoded data removed]",
      "text/plain": [
       "<Figure size 432x288 with 1 Axes>"
      ]
     },
     "metadata": {
      "needs_background": "light"
     },
     "output_type": "display_data"
    }
   ],
   "source": [
    "df.corr()['salary'].sort_values(ascending=False).drop(['salary']).plot(kind='bar',color='c')\n",
    "plt.xlabel('Features')\n",
    "plt.ylabel('column with target names')\n",
    "plt.title('correlation')\n",
    "plt.show()"
   ]
  },
  {
   "cell_type": "code",
   "execution_count": 62,
   "metadata": {},
   "outputs": [
    {
     "data": {
      "text/plain": [
       "sex             -2.709958\n",
       "rank            -1.151164\n",
       "discipline      -0.177684\n",
       "yrs.since.phd    0.300880\n",
       "yrs.service      0.650569\n",
       "salary           0.714568\n",
       "dtype: float64"
      ]
     },
     "execution_count": 62,
     "metadata": {},
     "output_type": "execute_result"
    }
   ],
   "source": [
    "#checking skewness\n",
    "df.skew().sort_values()"
   ]
  },
  {
   "cell_type": "markdown",
   "metadata": {},
   "source": [
    "sex,rank and discipline are categorical. \n",
    "No skewness "
   ]
  },
  {
   "cell_type": "code",
   "execution_count": 65,
   "metadata": {},
   "outputs": [
    {
     "data": {
      "text/plain": [
       "rank             float64\n",
       "discipline       float64\n",
       "yrs.since.phd      int64\n",
       "yrs.service        int64\n",
       "sex              float64\n",
       "salary             int64\n",
       "dtype: object"
      ]
     },
     "execution_count": 65,
     "metadata": {},
     "output_type": "execute_result"
    }
   ],
   "source": [
    "#checking outliers\n",
    "df.dtypes"
   ]
  },
  {
   "cell_type": "code",
   "execution_count": 68,
   "metadata": {},
   "outputs": [
    {
     "data": {
      "text/plain": [
       "<matplotlib.axes._subplots.AxesSubplot at 0xde55748>"
      ]
     },
     "execution_count": 68,
     "metadata": {},
     "output_type": "execute_result"
    },
    {
     "data": {
      "image/png": "[encoded data removed]",
      "text/plain": [
       "<Figure size 432x288 with 1 Axes>"
      ]
     },
     "metadata": {
      "needs_background": "light"
     },
     "output_type": "display_data"
    }
   ],
   "source": [
    "df['yrs.since.phd'].plot.box()"
   ]
  },
  {
   "cell_type": "code",
   "execution_count": 69,
   "metadata": {},
   "outputs": [
    {
     "data": {
      "text/plain": [
       "<matplotlib.axes._subplots.AxesSubplot at 0xd824948>"
      ]
     },
     "execution_count": 69,
     "metadata": {},
     "output_type": "execute_result"
    },
    {
     "data": {
      "image/png": "[encoded data removed]",
      "text/plain": [
       "<Figure size 432x288 with 1 Axes>"
      ]
     },
     "metadata": {
      "needs_background": "light"
     },
     "output_type": "display_data"
    }
   ],
   "source": [
    "df['yrs.service'].plot.box()"
   ]
  },
  {
   "cell_type": "code",
   "execution_count": 71,
   "metadata": {},
   "outputs": [
    {
     "data": {
      "text/plain": [
       "<matplotlib.axes._subplots.AxesSubplot at 0xd8e9e08>"
      ]
     },
     "execution_count": 71,
     "metadata": {},
     "output_type": "execute_result"
    },
    {
     "data": {
      "image/png": "[encoded data removed]",
      "text/plain": [
       "<Figure size 432x288 with 1 Axes>"
      ]
     },
     "metadata": {
      "needs_background": "light"
     },
     "output_type": "display_data"
    }
   ],
   "source": [
    "df['salary'].plot.box()"
   ]
  },
  {
   "cell_type": "markdown",
   "metadata": {},
   "source": [
    "hardly any outliers present."
   ]
  },
  {
   "cell_type": "markdown",
   "metadata": {},
   "source": [
    "# Separating the columns into features and target:"
   ]
  },
  {
   "cell_type": "code",
   "execution_count": 76,
   "metadata": {},
   "outputs": [],
   "source": [
    "features=df.drop('salary',axis=1)\n",
    "target=df['salary']"
   ]
  },
  {
   "cell_type": "markdown",
   "metadata": {},
   "source": [
    "# Scaling the data using min-max scaler:"
   ]
  },
  {
   "cell_type": "code",
   "execution_count": 77,
   "metadata": {},
   "outputs": [],
   "source": [
    "from sklearn.preprocessing import MinMaxScaler\n",
    "mns=MinMaxScaler()\n",
    "from sklearn.linear_model import LinearRegression\n",
    "lr=LinearRegression()\n",
    "from sklearn.metrics import r2_score\n",
    "from sklearn.model_selection import train_test_split"
   ]
  },
  {
   "cell_type": "code",
   "execution_count": 78,
   "metadata": {},
   "outputs": [],
   "source": [
    "import warnings\n",
    "warnings.filterwarnings('ignore')"
   ]
  },
  {
   "cell_type": "code",
   "execution_count": 79,
   "metadata": {},
   "outputs": [
    {
     "name": "stdout",
     "output_type": "stream",
     "text": [
      "At random state 0,the training accuracy is:- 0.3604245854198438\n",
      "At random state 0,the training accuracy is:- 0.4163364187662941\n",
      "\n",
      "\n",
      "At random state 1,the training accuracy is:- 0.3604245854198438\n",
      "At random state 1,the training accuracy is:- 0.4163364187662941\n",
      "\n",
      "\n",
      "At random state 2,the training accuracy is:- 0.3604245854198438\n",
      "At random state 2,the training accuracy is:- 0.4163364187662941\n",
      "\n",
      "\n",
      "At random state 3,the training accuracy is:- 0.3604245854198438\n",
      "At random state 3,the training accuracy is:- 0.4163364187662941\n",
      "\n",
      "\n",
      "At random state 4,the training accuracy is:- 0.3604245854198438\n",
      "At random state 4,the training accuracy is:- 0.4163364187662941\n",
      "\n",
      "\n",
      "At random state 5,the training accuracy is:- 0.3604245854198438\n",
      "At random state 5,the training accuracy is:- 0.4163364187662941\n",
      "\n",
      "\n",
      "At random state 6,the training accuracy is:- 0.3604245854198438\n",
      "At random state 6,the training accuracy is:- 0.4163364187662941\n",
      "\n",
      "\n",
      "At random state 7,the training accuracy is:- 0.3604245854198438\n",
      "At random state 7,the training accuracy is:- 0.4163364187662941\n",
      "\n",
      "\n",
      "At random state 8,the training accuracy is:- 0.3604245854198438\n",
      "At random state 8,the training accuracy is:- 0.4163364187662941\n",
      "\n",
      "\n",
      "At random state 9,the training accuracy is:- 0.3604245854198438\n",
      "At random state 9,the training accuracy is:- 0.4163364187662941\n",
      "\n",
      "\n",
      "At random state 10,the training accuracy is:- 0.3604245854198438\n",
      "At random state 10,the training accuracy is:- 0.4163364187662941\n",
      "\n",
      "\n",
      "At random state 11,the training accuracy is:- 0.3604245854198438\n",
      "At random state 11,the training accuracy is:- 0.4163364187662941\n",
      "\n",
      "\n",
      "At random state 12,the training accuracy is:- 0.3604245854198438\n",
      "At random state 12,the training accuracy is:- 0.4163364187662941\n",
      "\n",
      "\n",
      "At random state 13,the training accuracy is:- 0.3604245854198438\n",
      "At random state 13,the training accuracy is:- 0.4163364187662941\n",
      "\n",
      "\n",
      "At random state 14,the training accuracy is:- 0.3604245854198438\n",
      "At random state 14,the training accuracy is:- 0.4163364187662941\n",
      "\n",
      "\n",
      "At random state 15,the training accuracy is:- 0.3604245854198438\n",
      "At random state 15,the training accuracy is:- 0.4163364187662941\n",
      "\n",
      "\n",
      "At random state 16,the training accuracy is:- 0.3604245854198438\n",
      "At random state 16,the training accuracy is:- 0.4163364187662941\n",
      "\n",
      "\n",
      "At random state 17,the training accuracy is:- 0.3604245854198438\n",
      "At random state 17,the training accuracy is:- 0.4163364187662941\n",
      "\n",
      "\n",
      "At random state 18,the training accuracy is:- 0.3604245854198438\n",
      "At random state 18,the training accuracy is:- 0.4163364187662941\n",
      "\n",
      "\n",
      "At random state 19,the training accuracy is:- 0.3604245854198438\n",
      "At random state 19,the training accuracy is:- 0.4163364187662941\n",
      "\n",
      "\n",
      "At random state 20,the training accuracy is:- 0.3604245854198438\n",
      "At random state 20,the training accuracy is:- 0.4163364187662941\n",
      "\n",
      "\n",
      "At random state 21,the training accuracy is:- 0.3604245854198438\n",
      "At random state 21,the training accuracy is:- 0.4163364187662941\n",
      "\n",
      "\n",
      "At random state 22,the training accuracy is:- 0.3604245854198438\n",
      "At random state 22,the training accuracy is:- 0.4163364187662941\n",
      "\n",
      "\n",
      "At random state 23,the training accuracy is:- 0.3604245854198438\n",
      "At random state 23,the training accuracy is:- 0.4163364187662941\n",
      "\n",
      "\n",
      "At random state 24,the training accuracy is:- 0.3604245854198438\n",
      "At random state 24,the training accuracy is:- 0.4163364187662941\n",
      "\n",
      "\n",
      "At random state 25,the training accuracy is:- 0.3604245854198438\n",
      "At random state 25,the training accuracy is:- 0.4163364187662941\n",
      "\n",
      "\n",
      "At random state 26,the training accuracy is:- 0.3604245854198438\n",
      "At random state 26,the training accuracy is:- 0.4163364187662941\n",
      "\n",
      "\n",
      "At random state 27,the training accuracy is:- 0.3604245854198438\n",
      "At random state 27,the training accuracy is:- 0.4163364187662941\n",
      "\n",
      "\n",
      "At random state 28,the training accuracy is:- 0.3604245854198438\n",
      "At random state 28,the training accuracy is:- 0.4163364187662941\n",
      "\n",
      "\n",
      "At random state 29,the training accuracy is:- 0.3604245854198438\n",
      "At random state 29,the training accuracy is:- 0.4163364187662941\n",
      "\n",
      "\n",
      "At random state 30,the training accuracy is:- 0.3604245854198438\n",
      "At random state 30,the training accuracy is:- 0.4163364187662941\n",
      "\n",
      "\n",
      "At random state 31,the training accuracy is:- 0.3604245854198438\n",
      "At random state 31,the training accuracy is:- 0.4163364187662941\n",
      "\n",
      "\n",
      "At random state 32,the training accuracy is:- 0.3604245854198438\n",
      "At random state 32,the training accuracy is:- 0.4163364187662941\n",
      "\n",
      "\n",
      "At random state 33,the training accuracy is:- 0.3604245854198438\n",
      "At random state 33,the training accuracy is:- 0.4163364187662941\n",
      "\n",
      "\n",
      "At random state 34,the training accuracy is:- 0.3604245854198438\n",
      "At random state 34,the training accuracy is:- 0.4163364187662941\n",
      "\n",
      "\n",
      "At random state 35,the training accuracy is:- 0.3604245854198438\n",
      "At random state 35,the training accuracy is:- 0.4163364187662941\n",
      "\n",
      "\n",
      "At random state 36,the training accuracy is:- 0.3604245854198438\n",
      "At random state 36,the training accuracy is:- 0.4163364187662941\n",
      "\n",
      "\n",
      "At random state 37,the training accuracy is:- 0.3604245854198438\n",
      "At random state 37,the training accuracy is:- 0.4163364187662941\n",
      "\n",
      "\n",
      "At random state 38,the training accuracy is:- 0.3604245854198438\n",
      "At random state 38,the training accuracy is:- 0.4163364187662941\n",
      "\n",
      "\n",
      "At random state 39,the training accuracy is:- 0.3604245854198438\n",
      "At random state 39,the training accuracy is:- 0.4163364187662941\n",
      "\n",
      "\n",
      "At random state 40,the training accuracy is:- 0.3604245854198438\n",
      "At random state 40,the training accuracy is:- 0.4163364187662941\n",
      "\n",
      "\n",
      "At random state 41,the training accuracy is:- 0.3604245854198438\n",
      "At random state 41,the training accuracy is:- 0.4163364187662941\n",
      "\n",
      "\n",
      "At random state 42,the training accuracy is:- 0.3604245854198438\n",
      "At random state 42,the training accuracy is:- 0.4163364187662941\n",
      "\n",
      "\n",
      "At random state 43,the training accuracy is:- 0.3604245854198438\n",
      "At random state 43,the training accuracy is:- 0.4163364187662941\n",
      "\n",
      "\n",
      "At random state 44,the training accuracy is:- 0.3604245854198438\n",
      "At random state 44,the training accuracy is:- 0.4163364187662941\n",
      "\n",
      "\n",
      "At random state 45,the training accuracy is:- 0.3604245854198438\n",
      "At random state 45,the training accuracy is:- 0.4163364187662941\n",
      "\n",
      "\n",
      "At random state 46,the training accuracy is:- 0.3604245854198438\n",
      "At random state 46,the training accuracy is:- 0.4163364187662941\n",
      "\n",
      "\n",
      "At random state 47,the training accuracy is:- 0.3604245854198438\n",
      "At random state 47,the training accuracy is:- 0.4163364187662941\n",
      "\n",
      "\n",
      "At random state 48,the training accuracy is:- 0.3604245854198438\n",
      "At random state 48,the training accuracy is:- 0.4163364187662941\n",
      "\n",
      "\n",
      "At random state 49,the training accuracy is:- 0.3604245854198438\n",
      "At random state 49,the training accuracy is:- 0.4163364187662941\n",
      "\n",
      "\n",
      "At random state 50,the training accuracy is:- 0.3604245854198438\n",
      "At random state 50,the training accuracy is:- 0.4163364187662941\n",
      "\n",
      "\n",
      "At random state 51,the training accuracy is:- 0.3604245854198438\n",
      "At random state 51,the training accuracy is:- 0.4163364187662941\n",
      "\n",
      "\n",
      "At random state 52,the training accuracy is:- 0.3604245854198438\n",
      "At random state 52,the training accuracy is:- 0.4163364187662941\n",
      "\n",
      "\n",
      "At random state 53,the training accuracy is:- 0.3604245854198438\n",
      "At random state 53,the training accuracy is:- 0.4163364187662941\n",
      "\n",
      "\n",
      "At random state 54,the training accuracy is:- 0.3604245854198438\n",
      "At random state 54,the training accuracy is:- 0.4163364187662941\n",
      "\n",
      "\n",
      "At random state 55,the training accuracy is:- 0.3604245854198438\n",
      "At random state 55,the training accuracy is:- 0.4163364187662941\n",
      "\n",
      "\n",
      "At random state 56,the training accuracy is:- 0.3604245854198438\n",
      "At random state 56,the training accuracy is:- 0.4163364187662941\n",
      "\n",
      "\n",
      "At random state 57,the training accuracy is:- 0.3604245854198438\n",
      "At random state 57,the training accuracy is:- 0.4163364187662941\n",
      "\n",
      "\n",
      "At random state 58,the training accuracy is:- 0.3604245854198438\n",
      "At random state 58,the training accuracy is:- 0.4163364187662941\n",
      "\n",
      "\n",
      "At random state 59,the training accuracy is:- 0.3604245854198438\n",
      "At random state 59,the training accuracy is:- 0.4163364187662941\n",
      "\n",
      "\n",
      "At random state 60,the training accuracy is:- 0.3604245854198438\n",
      "At random state 60,the training accuracy is:- 0.4163364187662941\n",
      "\n",
      "\n",
      "At random state 61,the training accuracy is:- 0.3604245854198438\n",
      "At random state 61,the training accuracy is:- 0.4163364187662941\n",
      "\n",
      "\n",
      "At random state 62,the training accuracy is:- 0.3604245854198438\n",
      "At random state 62,the training accuracy is:- 0.4163364187662941\n",
      "\n",
      "\n",
      "At random state 63,the training accuracy is:- 0.3604245854198438\n",
      "At random state 63,the training accuracy is:- 0.4163364187662941\n",
      "\n",
      "\n",
      "At random state 64,the training accuracy is:- 0.3604245854198438\n",
      "At random state 64,the training accuracy is:- 0.4163364187662941\n",
      "\n",
      "\n",
      "At random state 65,the training accuracy is:- 0.3604245854198438\n",
      "At random state 65,the training accuracy is:- 0.4163364187662941\n",
      "\n",
      "\n",
      "At random state 66,the training accuracy is:- 0.3604245854198438\n",
      "At random state 66,the training accuracy is:- 0.4163364187662941\n",
      "\n",
      "\n",
      "At random state 67,the training accuracy is:- 0.3604245854198438\n",
      "At random state 67,the training accuracy is:- 0.4163364187662941\n",
      "\n",
      "\n",
      "At random state 68,the training accuracy is:- 0.3604245854198438\n",
      "At random state 68,the training accuracy is:- 0.4163364187662941\n",
      "\n",
      "\n",
      "At random state 69,the training accuracy is:- 0.3604245854198438\n",
      "At random state 69,the training accuracy is:- 0.4163364187662941\n",
      "\n",
      "\n",
      "At random state 70,the training accuracy is:- 0.3604245854198438\n",
      "At random state 70,the training accuracy is:- 0.4163364187662941\n",
      "\n",
      "\n",
      "At random state 71,the training accuracy is:- 0.3604245854198438\n",
      "At random state 71,the training accuracy is:- 0.4163364187662941\n",
      "\n",
      "\n",
      "At random state 72,the training accuracy is:- 0.3604245854198438\n",
      "At random state 72,the training accuracy is:- 0.4163364187662941\n",
      "\n",
      "\n",
      "At random state 73,the training accuracy is:- 0.3604245854198438\n",
      "At random state 73,the training accuracy is:- 0.4163364187662941\n",
      "\n",
      "\n",
      "At random state 74,the training accuracy is:- 0.3604245854198438\n",
      "At random state 74,the training accuracy is:- 0.4163364187662941\n",
      "\n",
      "\n",
      "At random state 75,the training accuracy is:- 0.3604245854198438\n",
      "At random state 75,the training accuracy is:- 0.4163364187662941\n",
      "\n",
      "\n",
      "At random state 76,the training accuracy is:- 0.3604245854198438\n",
      "At random state 76,the training accuracy is:- 0.4163364187662941\n",
      "\n",
      "\n",
      "At random state 77,the training accuracy is:- 0.3604245854198438\n",
      "At random state 77,the training accuracy is:- 0.4163364187662941\n",
      "\n",
      "\n",
      "At random state 78,the training accuracy is:- 0.3604245854198438\n",
      "At random state 78,the training accuracy is:- 0.4163364187662941\n",
      "\n",
      "\n",
      "At random state 79,the training accuracy is:- 0.3604245854198438\n",
      "At random state 79,the training accuracy is:- 0.4163364187662941\n",
      "\n",
      "\n",
      "At random state 80,the training accuracy is:- 0.3604245854198438\n",
      "At random state 80,the training accuracy is:- 0.4163364187662941\n",
      "\n",
      "\n",
      "At random state 81,the training accuracy is:- 0.3604245854198438\n",
      "At random state 81,the training accuracy is:- 0.4163364187662941\n",
      "\n",
      "\n",
      "At random state 82,the training accuracy is:- 0.3604245854198438\n",
      "At random state 82,the training accuracy is:- 0.4163364187662941\n",
      "\n",
      "\n",
      "At random state 83,the training accuracy is:- 0.3604245854198438\n",
      "At random state 83,the training accuracy is:- 0.4163364187662941\n",
      "\n",
      "\n",
      "At random state 84,the training accuracy is:- 0.3604245854198438\n",
      "At random state 84,the training accuracy is:- 0.4163364187662941\n",
      "\n",
      "\n",
      "At random state 85,the training accuracy is:- 0.3604245854198438\n",
      "At random state 85,the training accuracy is:- 0.4163364187662941\n",
      "\n",
      "\n",
      "At random state 86,the training accuracy is:- 0.3604245854198438\n",
      "At random state 86,the training accuracy is:- 0.4163364187662941\n",
      "\n",
      "\n",
      "At random state 87,the training accuracy is:- 0.3604245854198438\n",
      "At random state 87,the training accuracy is:- 0.4163364187662941\n",
      "\n",
      "\n",
      "At random state 88,the training accuracy is:- 0.3604245854198438\n",
      "At random state 88,the training accuracy is:- 0.4163364187662941\n",
      "\n",
      "\n",
      "At random state 89,the training accuracy is:- 0.3604245854198438\n",
      "At random state 89,the training accuracy is:- 0.4163364187662941\n",
      "\n",
      "\n",
      "At random state 90,the training accuracy is:- 0.3604245854198438\n",
      "At random state 90,the training accuracy is:- 0.4163364187662941\n",
      "\n",
      "\n",
      "At random state 91,the training accuracy is:- 0.3604245854198438\n",
      "At random state 91,the training accuracy is:- 0.4163364187662941\n",
      "\n",
      "\n",
      "At random state 92,the training accuracy is:- 0.3604245854198438\n",
      "At random state 92,the training accuracy is:- 0.4163364187662941\n",
      "\n",
      "\n",
      "At random state 93,the training accuracy is:- 0.3604245854198438\n",
      "At random state 93,the training accuracy is:- 0.4163364187662941\n",
      "\n",
      "\n",
      "At random state 94,the training accuracy is:- 0.3604245854198438\n",
      "At random state 94,the training accuracy is:- 0.4163364187662941\n",
      "\n",
      "\n",
      "At random state 95,the training accuracy is:- 0.3604245854198438\n",
      "At random state 95,the training accuracy is:- 0.4163364187662941\n",
      "\n",
      "\n",
      "At random state 96,the training accuracy is:- 0.3604245854198438\n",
      "At random state 96,the training accuracy is:- 0.4163364187662941\n",
      "\n",
      "\n",
      "At random state 97,the training accuracy is:- 0.3604245854198438\n",
      "At random state 97,the training accuracy is:- 0.4163364187662941\n",
      "\n",
      "\n",
      "At random state 98,the training accuracy is:- 0.3604245854198438\n",
      "At random state 98,the training accuracy is:- 0.4163364187662941\n",
      "\n",
      "\n",
      "At random state 99,the training accuracy is:- 0.3604245854198438\n",
      "At random state 99,the training accuracy is:- 0.4163364187662941\n",
      "\n",
      "\n"
     ]
    }
   ],
   "source": [
    "for i in range(0,100):\n",
    "    features_train,features_test,target_train,target_test=train_test_split(features,target,test_size=0.2,random_state=1)\n",
    "    lr.fit(features_train,target_train)\n",
    "    pred_train=lr.predict(features_train)\n",
    "    pred_test=lr.predict(features_test)\n",
    "    print(f\"At random state {i},the training accuracy is:- {r2_score(target_train,pred_train)}\")\n",
    "    print(f\"At random state {i},the training accuracy is:- {r2_score(target_test,pred_test)}\")\n",
    "          \n",
    "    print(\"\\n\")   "
   ]
  },
  {
   "cell_type": "code",
   "execution_count": 80,
   "metadata": {},
   "outputs": [],
   "source": [
    "features_train,features_test,target_train,target_test=train_test_split(features,target,test_size=0.2,random_state=12)"
   ]
  },
  {
   "cell_type": "code",
   "execution_count": 81,
   "metadata": {},
   "outputs": [
    {
     "data": {
      "text/plain": [
       "LinearRegression(copy_X=True, fit_intercept=True, n_jobs=None, normalize=False)"
      ]
     },
     "execution_count": 81,
     "metadata": {},
     "output_type": "execute_result"
    }
   ],
   "source": [
    "lr.fit(features_train,target_train)"
   ]
  },
  {
   "cell_type": "code",
   "execution_count": 82,
   "metadata": {},
   "outputs": [],
   "source": [
    "pred_test=lr.predict(features_test)"
   ]
  },
  {
   "cell_type": "code",
   "execution_count": 83,
   "metadata": {},
   "outputs": [
    {
     "name": "stdout",
     "output_type": "stream",
     "text": [
      "0.3439703329785656\n"
     ]
    }
   ],
   "source": [
    "print(r2_score(target_test,pred_test))"
   ]
  },
  {
   "cell_type": "markdown",
   "metadata": {},
   "source": [
    "# Cross-Validation of the model:"
   ]
  },
  {
   "cell_type": "code",
   "execution_count": 84,
   "metadata": {},
   "outputs": [
    {
     "name": "stdout",
     "output_type": "stream",
     "text": [
      "At cross fols2 the cv score is 0.32708011674065113 and accuracy score for training is -0.48920140471764695 and accuracy for the testing is 0.3439703329785656\n",
      "\n",
      "\n",
      "At cross fols3 the cv score is 0.3203328673059879 and accuracy score for training is -0.48920140471764695 and accuracy for the testing is 0.3439703329785656\n",
      "\n",
      "\n",
      "At cross fols4 the cv score is 0.32181966937683587 and accuracy score for training is -0.48920140471764695 and accuracy for the testing is 0.3439703329785656\n",
      "\n",
      "\n",
      "At cross fols5 the cv score is 0.29569928663871736 and accuracy score for training is -0.48920140471764695 and accuracy for the testing is 0.3439703329785656\n",
      "\n",
      "\n",
      "At cross fols6 the cv score is 0.3309634183929555 and accuracy score for training is -0.48920140471764695 and accuracy for the testing is 0.3439703329785656\n",
      "\n",
      "\n",
      "At cross fols7 the cv score is 0.3257704419996535 and accuracy score for training is -0.48920140471764695 and accuracy for the testing is 0.3439703329785656\n",
      "\n",
      "\n",
      "At cross fols8 the cv score is 0.3310060584513581 and accuracy score for training is -0.48920140471764695 and accuracy for the testing is 0.3439703329785656\n",
      "\n",
      "\n",
      "At cross fols9 the cv score is 0.3043911239889374 and accuracy score for training is -0.48920140471764695 and accuracy for the testing is 0.3439703329785656\n",
      "\n",
      "\n"
     ]
    }
   ],
   "source": [
    "Train_accuracy=r2_score(target_train,pred_train)\n",
    "Test_accuracy=r2_score(target_test,pred_test)\n",
    "\n",
    "from sklearn.model_selection import cross_val_score\n",
    "for j in range(2,10):\n",
    "    cv_score=cross_val_score(lr,features,target,cv=j)\n",
    "    cv_mean=cv_score.mean()\n",
    "    print(f\"At cross fols{j} the cv score is {cv_mean} and accuracy score for training is {Train_accuracy} and accuracy for the testing is {Test_accuracy}\")\n",
    "    print(\"\\n\")"
   ]
  },
  {
   "cell_type": "code",
   "execution_count": 86,
   "metadata": {},
   "outputs": [
    {
     "data": {
      "image/png": "[encoded data removed]",
      "text/plain": [
       "<Figure size 576x432 with 1 Axes>"
      ]
     },
     "metadata": {
      "needs_background": "light"
     },
     "output_type": "display_data"
    }
   ],
   "source": [
    "import matplotlib.pyplot as plt\n",
    "plt.figure(figsize=(8,6))\n",
    "plt.scatter(x=target_test, y=pred_test, color='r')\n",
    "plt.plot(target_test,target_test,color='b')\n",
    "plt.xlabel('Actual chargers')\n",
    "plt.ylabel('Predicted chargers')\n",
    "plt.title('Linear Regression')\n",
    "plt.savefig('lr.png')\n",
    "plt.show()"
   ]
  },
  {
   "cell_type": "markdown",
   "metadata": {},
   "source": [
    "# Regularization:"
   ]
  },
  {
   "cell_type": "code",
   "execution_count": 87,
   "metadata": {},
   "outputs": [],
   "source": [
    "from sklearn.model_selection import GridSearchCV\n",
    "from sklearn.model_selection import cross_val_score\n",
    "import warnings\n",
    "warnings.filterwarnings('ignore')"
   ]
  },
  {
   "cell_type": "code",
   "execution_count": 88,
   "metadata": {},
   "outputs": [
    {
     "name": "stdout",
     "output_type": "stream",
     "text": [
      "{'alpha': 10, 'random_state': 0}\n"
     ]
    }
   ],
   "source": [
    "from sklearn.linear_model import Lasso\n",
    "parameters={'alpha':[.0001,.001,0.1,.1,1,10],'random_state':list(range(0,10))}\n",
    "ls=Lasso()\n",
    "clf=GridSearchCV(ls,parameters)\n",
    "clf.fit(features_train,target_train)\n",
    "print(clf.best_params_)"
   ]
  },
  {
   "cell_type": "code",
   "execution_count": 89,
   "metadata": {},
   "outputs": [
    {
     "data": {
      "text/plain": [
       "37.67666823112948"
      ]
     },
     "execution_count": 89,
     "metadata": {},
     "output_type": "execute_result"
    }
   ],
   "source": [
    "#final model training\n",
    "ls=Lasso(alpha=0.0001,random_state=0)\n",
    "ls.fit(features_train,target_train)\n",
    "ls_score_training=ls.score(features_train,target_train)\n",
    "pred_ls=ls.predict(features_test)\n",
    "ls_score_training*100"
   ]
  },
  {
   "cell_type": "code",
   "execution_count": 90,
   "metadata": {},
   "outputs": [],
   "source": [
    "pred_ls=ls.predict(features_test)"
   ]
  },
  {
   "cell_type": "code",
   "execution_count": 91,
   "metadata": {},
   "outputs": [
    {
     "data": {
      "text/plain": [
       "34.397033198422456"
      ]
     },
     "execution_count": 91,
     "metadata": {},
     "output_type": "execute_result"
    }
   ],
   "source": [
    "lss=r2_score(target_test,pred_ls)\n",
    "lss*100"
   ]
  },
  {
   "cell_type": "code",
   "execution_count": 95,
   "metadata": {},
   "outputs": [
    {
     "data": {
      "text/plain": [
       "32.70801199483702"
      ]
     },
     "execution_count": 95,
     "metadata": {},
     "output_type": "execute_result"
    }
   ],
   "source": [
    "cv_score=cross_val_score(ls,features,target,cv=2)\n",
    "cv_mean=cv_score.mean()\n",
    "cv_mean*100"
   ]
  },
  {
   "cell_type": "markdown",
   "metadata": {},
   "source": [
    "# Ensemble technique:"
   ]
  },
  {
   "cell_type": "code",
   "execution_count": 96,
   "metadata": {},
   "outputs": [
    {
     "name": "stdout",
     "output_type": "stream",
     "text": [
      "{'criterion': 'mae', 'max_features': 'log2'}\n"
     ]
    }
   ],
   "source": [
    "from sklearn.model_selection import GridSearchCV\n",
    "from sklearn.ensemble import RandomForestRegressor\n",
    "\n",
    "parameters={'criterion':['mse','mae'],'max_features':['auto','sqrt','log2']}\n",
    "\n",
    "rf=RandomForestRegressor()\n",
    "clf=GridSearchCV(rf,parameters)\n",
    "clf.fit(features_train,target_train)\n",
    "\n",
    "print(clf.best_params_)"
   ]
  },
  {
   "cell_type": "code",
   "execution_count": 97,
   "metadata": {},
   "outputs": [
    {
     "name": "stdout",
     "output_type": "stream",
     "text": [
      "Training r2 0.8520347132660453\n",
      "R2Score: 31.674969206381043\n"
     ]
    }
   ],
   "source": [
    "rf=RandomForestRegressor(criterion='mae',max_features='auto')\n",
    "rf.fit(features_train,target_train)\n",
    "train_r2=rf.score(features_train,target_train)\n",
    "pred_decision=rf.predict(features_test)\n",
    "print('Training r2',train_r2)\n",
    "rfs=r2_score(target_test,pred_decision)\n",
    "print(\"R2Score:\",rfs*100)\n"
   ]
  },
  {
   "cell_type": "markdown",
   "metadata": {},
   "source": [
    "we are getting model accuracy just 31.67%"
   ]
  },
  {
   "cell_type": "code",
   "execution_count": 98,
   "metadata": {},
   "outputs": [],
   "source": [
    "import pickle\n",
    "filename='salary.project.pkl'\n",
    "pickle.dump(rf,open(filename,'wb'))"
   ]
  },
  {
   "cell_type": "markdown",
   "metadata": {},
   "source": [
    "# conclusion:"
   ]
  },
  {
   "cell_type": "code",
   "execution_count": 100,
   "metadata": {},
   "outputs": [
    {
     "name": "stdout",
     "output_type": "stream",
     "text": [
      "31.674969206381043\n"
     ]
    }
   ],
   "source": [
    "loaded_model=pickle.load(open('salary.project.pkl','rb'))\n",
    "result=loaded_model.score(features_test,target_test)\n",
    "print(result*100)"
   ]
  },
  {
   "cell_type": "code",
   "execution_count": 101,
   "metadata": {},
   "outputs": [
    {
     "data": {
      "text/html": [
       "<div>\n",
       "<style scoped>\n",
       "    .dataframe tbody tr th:only-of-type {\n",
       "        vertical-align: middle;\n",
       "    }\n",
       "\n",
       "    .dataframe tbody tr th {\n",
       "        vertical-align: top;\n",
       "    }\n",
       "\n",
       "    .dataframe thead th {\n",
       "        text-align: right;\n",
       "    }\n",
       "</style>\n",
       "<table border=\"1\" class=\"dataframe\">\n",
       "  <thead>\n",
       "    <tr style=\"text-align: right;\">\n",
       "      <th></th>\n",
       "      <th>predicted</th>\n",
       "      <th>original</th>\n",
       "    </tr>\n",
       "  </thead>\n",
       "  <tbody>\n",
       "    <tr>\n",
       "      <th>0</th>\n",
       "      <td>154024.955</td>\n",
       "      <td>154024.955</td>\n",
       "    </tr>\n",
       "    <tr>\n",
       "      <th>1</th>\n",
       "      <td>110622.640</td>\n",
       "      <td>110622.640</td>\n",
       "    </tr>\n",
       "    <tr>\n",
       "      <th>2</th>\n",
       "      <td>161503.310</td>\n",
       "      <td>161503.310</td>\n",
       "    </tr>\n",
       "    <tr>\n",
       "      <th>3</th>\n",
       "      <td>139853.440</td>\n",
       "      <td>139853.440</td>\n",
       "    </tr>\n",
       "    <tr>\n",
       "      <th>4</th>\n",
       "      <td>85591.765</td>\n",
       "      <td>85591.765</td>\n",
       "    </tr>\n",
       "    <tr>\n",
       "      <th>...</th>\n",
       "      <td>...</td>\n",
       "      <td>...</td>\n",
       "    </tr>\n",
       "    <tr>\n",
       "      <th>75</th>\n",
       "      <td>79912.550</td>\n",
       "      <td>79912.550</td>\n",
       "    </tr>\n",
       "    <tr>\n",
       "      <th>76</th>\n",
       "      <td>106588.850</td>\n",
       "      <td>106588.850</td>\n",
       "    </tr>\n",
       "    <tr>\n",
       "      <th>77</th>\n",
       "      <td>79014.575</td>\n",
       "      <td>79014.575</td>\n",
       "    </tr>\n",
       "    <tr>\n",
       "      <th>78</th>\n",
       "      <td>137852.505</td>\n",
       "      <td>137852.505</td>\n",
       "    </tr>\n",
       "    <tr>\n",
       "      <th>79</th>\n",
       "      <td>176076.970</td>\n",
       "      <td>176076.970</td>\n",
       "    </tr>\n",
       "  </tbody>\n",
       "</table>\n",
       "<p>80 rows × 2 columns</p>\n",
       "</div>"
      ],
      "text/plain": [
       "     predicted    original\n",
       "0   154024.955  154024.955\n",
       "1   110622.640  110622.640\n",
       "2   161503.310  161503.310\n",
       "3   139853.440  139853.440\n",
       "4    85591.765   85591.765\n",
       "..         ...         ...\n",
       "75   79912.550   79912.550\n",
       "76  106588.850  106588.850\n",
       "77   79014.575   79014.575\n",
       "78  137852.505  137852.505\n",
       "79  176076.970  176076.970\n",
       "\n",
       "[80 rows x 2 columns]"
      ]
     },
     "execution_count": 101,
     "metadata": {},
     "output_type": "execute_result"
    }
   ],
   "source": [
    "conclusion=pd.DataFrame([loaded_model.predict(features_test)[:],pred_decision[:]],index=['predicted','original'])\n",
    "conclusion.transpose()"
   ]
  },
  {
   "cell_type": "code",
   "execution_count": null,
   "metadata": {},
   "outputs": [],
   "source": []
  },
  {
   "cell_type": "code",
   "execution_count": null,
   "metadata": {},
   "outputs": [],
   "source": []
  }
 ],
 "metadata": {
  "kernelspec": {
   "display_name": "Python 3",
   "language": "python",
   "name": "python3"
  },
  "language_info": {
   "codemirror_mode": {
    "name": "ipython",
    "version": 3
   },
   "file_extension": ".py",
   "mimetype": "text/x-python",
   "name": "python",
   "nbconvert_exporter": "python",
   "pygments_lexer": "ipython3",
   "version": "3.7.6"
  }
 },
 "nbformat": 4,
 "nbformat_minor": 4
}
